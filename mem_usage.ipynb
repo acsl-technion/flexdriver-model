{
 "cells": [
  {
   "cell_type": "markdown",
   "metadata": {},
   "source": [
    "# Memory usage for FlexDriver and CPU driver\n",
    "\n",
    "This notebook estimates the memory usage for an mlx5 driver for RDMA and compares it to the memory usage for FlexDriver."
   ]
  },
  {
   "cell_type": "code",
   "execution_count": 1,
   "metadata": {},
   "outputs": [],
   "source": [
    "%config InlineBackend.figure_format = 'retina'\n",
    "\n",
    "from copy import copy\n",
    "\n",
    "import numpy as np\n",
    "import pandas as pd\n",
    "import plotnine as p9\n",
    "\n",
    "from common import *"
   ]
  },
  {
   "cell_type": "code",
   "execution_count": 2,
   "metadata": {},
   "outputs": [],
   "source": [
    "def log2(value):\n",
    "    return np.ceil(np.log2(value)).astype('int')"
   ]
  },
  {
   "cell_type": "code",
   "execution_count": 3,
   "metadata": {},
   "outputs": [],
   "source": [
    "def round_pow2(value):\n",
    "    return np.left_shift(1, log2(value))"
   ]
  },
  {
   "cell_type": "code",
   "execution_count": 4,
   "metadata": {},
   "outputs": [],
   "source": [
    "def cuckoo_hash(tag_size, value_size):\n",
    "    '''Compute the size of the cuckoo hash table in bytes.'''\n",
    "    num_banks = 4\n",
    "    num_entries = 2 * round_pow2(value_size) / num_banks\n",
    "    tag_width = log2(tag_size)\n",
    "    value_width = log2(value_size)\n",
    "    return num_banks * num_entries * (tag_width + value_width) / 8"
   ]
  },
  {
   "cell_type": "code",
   "execution_count": 5,
   "metadata": {},
   "outputs": [],
   "source": [
    "def bdp(df):\n",
    "    '''Compute the bandwidth-delay product.'''\n",
    "    linerate = df['linerate_gbps']\n",
    "    df[f'packet_rate_mpps'] = linerate / (df['min_packet_size_bytes'] + 20) * 125\n",
    "    for dir in ('tx', 'rx'):\n",
    "        latency = df[f'latency_{dir}_usec']\n",
    "        df[f'{dir}_bdp_bytes'] = np.ceil(linerate * latency * 125)\n",
    "        df[f'{dir}_bdp_descs'] = np.ceil(df['packet_rate_mpps'] * latency)"
   ]
  },
  {
   "cell_type": "code",
   "execution_count": 6,
   "metadata": {},
   "outputs": [],
   "source": [
    "def outstanding_buffer_fragmentation(df):\n",
    "    '''Compute necessary buffer size for outstanding receive/transmit packets,\n",
    "    taking fragmentation into account.'''\n",
    "\n",
    "    # Use double the computed size for fragmentation (assumes minimal packet size >= block size)\n",
    "    assert (df['fld_tx_data_block_bytes'] <= df['min_packet_size_bytes']).all()\n",
    "    rx_stride = 64 # byte\n",
    "    assert (rx_stride <= df['min_packet_size_bytes']).all()\n",
    "    # Standard SRQ uses same computation as unshared tx buffer\n",
    "    for dir in ('tx', 'rx'):\n",
    "        df[f'{dir}_descs'] = df[f'{dir}_bdp_descs']\n",
    "    \n",
    "        # FLD\n",
    "        outstanding_fragmentation_bytes = df[f'{dir}_bdp_bytes'].rename(f'{dir}_outstanding_fragmentation_bytes') * 2\n",
    "        # not FLD\n",
    "        outstanding_fragmentation_bytes = outstanding_fragmentation_bytes.where(df['fld'],\n",
    "                                            df[f'{dir}_descs'] * df['max_packet_size_bytes'])\n",
    "\n",
    "        df[f'{dir}_outstanding_bytes'] = np.maximum(df[f'{dir}_bdp_bytes'], outstanding_fragmentation_bytes)"
   ]
  },
  {
   "cell_type": "code",
   "execution_count": 7,
   "metadata": {},
   "outputs": [],
   "source": [
    "def srq(df):\n",
    "    '''Compute the size of the receive queue with FLD and with a standard driver.'''\n",
    "    df['rwqe_bytes'] = np.where(df['fld'], 32, 16)\n",
    "    df['cqe_bytes'] = np.where(df['fld'], 120 / 8, 64)\n",
    "    rx_descs_pow2 = round_pow2(df['rx_descs'])\n",
    "    df['srq_wq_bytes'] = (rx_descs_pow2 * df['rwqe_bytes']).where(~df['fld'], 0)\n",
    "    df['rcq_bytes'] = rx_descs_pow2 * df['cqe_bytes']\n",
    "    df['srq_doorbell_record_bytes'] = 4"
   ]
  },
  {
   "cell_type": "code",
   "execution_count": 8,
   "metadata": {},
   "outputs": [],
   "source": [
    "wqebb_bytes = 64\n",
    "fld_wqe_bytes = 8\n",
    "\n",
    "def txq(df):\n",
    "    '''Compute the size of the transmit queues.'''\n",
    "\n",
    "    tx_descs_pow2 = round_pow2(df['tx_descs'])\n",
    "    df['twqe_bytes'] = np.where(df['fld'], fld_wqe_bytes, wqebb_bytes)\n",
    "    txq_wq_bytes_fld = tx_descs_pow2 * df['twqe_bytes']\n",
    "    txq_wq_bytes_no_fld = tx_descs_pow2 * df['num_tx_queues'] * df['twqe_bytes']\n",
    "\n",
    "    df['txq_wq_trans_table_tag_size'] = tx_descs_pow2 * df['num_tx_queues']\n",
    "    txq_wq_translation_table_bytes_fld = cuckoo_hash(tag_size=df['txq_wq_trans_table_tag_size'],\n",
    "                                                        value_size=df['tx_descs'])\n",
    "    df['txq_data_trans_table_tag_size'] = (df['tx_outstanding_bytes'] * df['num_tx_queues'] / df['fld_tx_data_block_bytes'])\n",
    "    txq_data_translation_table_bytes_fld = cuckoo_hash(tag_size=df['txq_data_trans_table_tag_size'],\n",
    "                                                            value_size=df['tx_outstanding_bytes'] / df['fld_tx_data_block_bytes'])\n",
    "\n",
    "    df['txq_wq_bytes'] = txq_wq_bytes_fld.where(df['fld'], txq_wq_bytes_no_fld)\n",
    "    df['txq_wq_translation_table_bytes'] = txq_wq_translation_table_bytes_fld.where(df['fld'], 0)\n",
    "    df['txq_data_translation_table_bytes'] = txq_data_translation_table_bytes_fld.where(df['fld'], 0)\n",
    "\n",
    "    df['tcq_bytes'] = tx_descs_pow2 * df['cqe_bytes']\n",
    "    df['txq_doorbell_record_bytes'] = 4 * df['num_tx_queues']\n"
   ]
  },
  {
   "cell_type": "code",
   "execution_count": 9,
   "metadata": {},
   "outputs": [],
   "source": [
    "metadata_fields = ['srq_wq_bytes', 'rcq_bytes', 'txq_wq_bytes', 'tcq_bytes',\n",
    "                    'srq_doorbell_record_bytes', 'txq_doorbell_record_bytes',\n",
    "                    'txq_wq_translation_table_bytes',\n",
    "                    'txq_data_translation_table_bytes']\n",
    "data_fields = [f'{dir}_outstanding_bytes' for dir in ('tx', 'rx')]\n",
    "\n",
    "def mem_usage(df):\n",
    "    '''Compute usage of the different driver components with FlexDriver and for\n",
    "    a CPU driver.'''\n",
    "    keys = list(df.columns)\n",
    "    bdp(df)\n",
    "    outstanding_buffer_fragmentation(df)\n",
    "    srq(df)\n",
    "    txq(df)\n",
    "    df = df.set_index(keys)\n",
    "    df['total_pi_bytes'] = df['txq_doorbell_record_bytes'] + df['srq_doorbell_record_bytes']\n",
    "    df['total_cq_bytes'] = df['rcq_bytes'] + df['tcq_bytes']\n",
    "    df['total_metadata_bytes'] = df.groupby(keys)[metadata_fields].sum().sum(axis=1)\n",
    "    df['total_data_bytes'] = df.groupby(keys)[data_fields].sum().sum(axis=1)\n",
    "    df['total_bytes'] = df['total_metadata_bytes'] + df['total_data_bytes']\n",
    "    return df.reset_index()"
   ]
  },
  {
   "cell_type": "code",
   "execution_count": 10,
   "metadata": {},
   "outputs": [
    {
     "data": {
      "text/html": [
       "<div>\n",
       "<style scoped>\n",
       "    .dataframe tbody tr th:only-of-type {\n",
       "        vertical-align: middle;\n",
       "    }\n",
       "\n",
       "    .dataframe tbody tr th {\n",
       "        vertical-align: top;\n",
       "    }\n",
       "\n",
       "    .dataframe thead th {\n",
       "        text-align: right;\n",
       "    }\n",
       "</style>\n",
       "<table border=\"1\" class=\"dataframe\">\n",
       "  <thead>\n",
       "    <tr style=\"text-align: right;\">\n",
       "      <th></th>\n",
       "      <th>linerate_gbps</th>\n",
       "      <th>fld</th>\n",
       "      <th>num_tx_queues</th>\n",
       "      <th>min_packet_size_bytes</th>\n",
       "      <th>max_packet_size_kib</th>\n",
       "      <th>latency_rx_usec</th>\n",
       "      <th>latency_tx_usec</th>\n",
       "      <th>packet_rate_mpps</th>\n",
       "      <th>tx_bdp_descs</th>\n",
       "      <th>rx_bdp_descs</th>\n",
       "      <th>tx_bdp_kib</th>\n",
       "      <th>rx_bdp_kib</th>\n",
       "    </tr>\n",
       "  </thead>\n",
       "  <tbody>\n",
       "    <tr>\n",
       "      <th>22</th>\n",
       "      <td>100</td>\n",
       "      <td>False</td>\n",
       "      <td>512</td>\n",
       "      <td>256</td>\n",
       "      <td>16.0</td>\n",
       "      <td>5</td>\n",
       "      <td>25</td>\n",
       "      <td>45.289855</td>\n",
       "      <td>1133.0</td>\n",
       "      <td>227.0</td>\n",
       "      <td>305.175781</td>\n",
       "      <td>61.035156</td>\n",
       "    </tr>\n",
       "    <tr>\n",
       "      <th>74</th>\n",
       "      <td>100</td>\n",
       "      <td>True</td>\n",
       "      <td>512</td>\n",
       "      <td>256</td>\n",
       "      <td>16.0</td>\n",
       "      <td>5</td>\n",
       "      <td>25</td>\n",
       "      <td>45.289855</td>\n",
       "      <td>1133.0</td>\n",
       "      <td>227.0</td>\n",
       "      <td>305.175781</td>\n",
       "      <td>61.035156</td>\n",
       "    </tr>\n",
       "  </tbody>\n",
       "</table>\n",
       "</div>"
      ],
      "text/plain": [
       "    linerate_gbps    fld  num_tx_queues  min_packet_size_bytes  \\\n",
       "22            100  False            512                    256   \n",
       "74            100   True            512                    256   \n",
       "\n",
       "    max_packet_size_kib  latency_rx_usec  latency_tx_usec  packet_rate_mpps  \\\n",
       "22                 16.0                5               25         45.289855   \n",
       "74                 16.0                5               25         45.289855   \n",
       "\n",
       "    tx_bdp_descs  rx_bdp_descs  tx_bdp_kib  rx_bdp_kib  \n",
       "22        1133.0         227.0  305.175781   61.035156  \n",
       "74        1133.0         227.0  305.175781   61.035156  "
      ]
     },
     "execution_count": 10,
     "metadata": {},
     "output_type": "execute_result"
    }
   ],
   "source": [
    "# Scenarios: FLD / CPU x Linerate x No. TX queues\n",
    "df = (pd.DataFrame({'fld': (False, True)})\n",
    "      .merge(pd.DataFrame({'linerate_gbps': [50 << i for i in range(4)]}), how='cross')\n",
    "      .merge(pd.DataFrame({'num_tx_queues': [1 << i for i in range(0, 13)]}), how='cross')\n",
    ").assign(latency_tx_usec=25, latency_rx_usec=5, min_packet_size_bytes=256, max_packet_size_bytes=1 << 14, fld_tx_data_block_bytes=256)\n",
    "df = mem_usage(df)\n",
    "\n",
    "# add KiB/MiB units results\n",
    "for col in df.columns:\n",
    "      if col.endswith('bytes'):\n",
    "            df[col.split('_bytes')[0] + '_kib'] = df[col] / (1 << 10)\n",
    "            df[col.split('_bytes')[0] + '_mib'] = df[col] / (1 << 20)\n",
    "\n",
    "interesting_rows = (df.linerate_gbps.isin((100,))) & (df.num_tx_queues == 512)\n",
    "keys = ['linerate_gbps', 'fld', 'num_tx_queues']\n",
    "table_2a_cols = ['min_packet_size_bytes', 'max_packet_size_kib', 'latency_rx_usec', 'latency_tx_usec', 'packet_rate_mpps', 'tx_bdp_descs', 'rx_bdp_descs', 'tx_bdp_kib', 'rx_bdp_kib']\n",
    "df[interesting_rows][keys + table_2a_cols]"
   ]
  },
  {
   "cell_type": "code",
   "execution_count": 11,
   "metadata": {},
   "outputs": [
    {
     "data": {
      "text/html": [
       "<div>\n",
       "<style scoped>\n",
       "    .dataframe tbody tr th:only-of-type {\n",
       "        vertical-align: middle;\n",
       "    }\n",
       "\n",
       "    .dataframe tbody tr th {\n",
       "        vertical-align: top;\n",
       "    }\n",
       "\n",
       "    .dataframe thead th {\n",
       "        text-align: right;\n",
       "    }\n",
       "</style>\n",
       "<table border=\"1\" class=\"dataframe\">\n",
       "  <thead>\n",
       "    <tr style=\"text-align: right;\">\n",
       "      <th></th>\n",
       "      <th>linerate_gbps</th>\n",
       "      <th>fld</th>\n",
       "      <th>num_tx_queues</th>\n",
       "      <th>twqe_bytes</th>\n",
       "      <th>rwqe_bytes</th>\n",
       "      <th>cqe_bytes</th>\n",
       "    </tr>\n",
       "  </thead>\n",
       "  <tbody>\n",
       "    <tr>\n",
       "      <th>22</th>\n",
       "      <td>100</td>\n",
       "      <td>False</td>\n",
       "      <td>512</td>\n",
       "      <td>64</td>\n",
       "      <td>16</td>\n",
       "      <td>64.0</td>\n",
       "    </tr>\n",
       "    <tr>\n",
       "      <th>74</th>\n",
       "      <td>100</td>\n",
       "      <td>True</td>\n",
       "      <td>512</td>\n",
       "      <td>8</td>\n",
       "      <td>32</td>\n",
       "      <td>15.0</td>\n",
       "    </tr>\n",
       "  </tbody>\n",
       "</table>\n",
       "</div>"
      ],
      "text/plain": [
       "    linerate_gbps    fld  num_tx_queues  twqe_bytes  rwqe_bytes  cqe_bytes\n",
       "22            100  False            512          64          16       64.0\n",
       "74            100   True            512           8          32       15.0"
      ]
     },
     "execution_count": 11,
     "metadata": {},
     "output_type": "execute_result"
    }
   ],
   "source": [
    "table_2b_cols = ['twqe_bytes', 'rwqe_bytes', 'cqe_bytes']\n",
    "df[interesting_rows][keys + table_2b_cols]"
   ]
  },
  {
   "cell_type": "code",
   "execution_count": 12,
   "metadata": {},
   "outputs": [
    {
     "data": {
      "text/html": [
       "<div>\n",
       "<style scoped>\n",
       "    .dataframe tbody tr th:only-of-type {\n",
       "        vertical-align: middle;\n",
       "    }\n",
       "\n",
       "    .dataframe tbody tr th {\n",
       "        vertical-align: top;\n",
       "    }\n",
       "\n",
       "    .dataframe thead th {\n",
       "        text-align: right;\n",
       "    }\n",
       "</style>\n",
       "<table border=\"1\" class=\"dataframe\">\n",
       "  <thead>\n",
       "    <tr style=\"text-align: right;\">\n",
       "      <th></th>\n",
       "      <th>linerate_gbps</th>\n",
       "      <th>fld</th>\n",
       "      <th>num_tx_queues</th>\n",
       "      <th>txq_wq_mib</th>\n",
       "      <th>txq_wq_kib</th>\n",
       "      <th>txq_wq_translation_table_kib</th>\n",
       "      <th>tx_outstanding_mib</th>\n",
       "      <th>tx_outstanding_kib</th>\n",
       "      <th>txq_data_translation_table_kib</th>\n",
       "      <th>rx_outstanding_mib</th>\n",
       "      <th>rx_outstanding_kib</th>\n",
       "      <th>total_cq_kib</th>\n",
       "      <th>srq_wq_mib</th>\n",
       "      <th>srq_wq_kib</th>\n",
       "      <th>total_pi_bytes</th>\n",
       "      <th>total_mib</th>\n",
       "      <th>total_kib</th>\n",
       "    </tr>\n",
       "  </thead>\n",
       "  <tbody>\n",
       "    <tr>\n",
       "      <th>22</th>\n",
       "      <td>100</td>\n",
       "      <td>False</td>\n",
       "      <td>512</td>\n",
       "      <td>64.000000</td>\n",
       "      <td>65536.0</td>\n",
       "      <td>0.0</td>\n",
       "      <td>17.703125</td>\n",
       "      <td>18128.000000</td>\n",
       "      <td>0.0</td>\n",
       "      <td>3.546875</td>\n",
       "      <td>3632.000000</td>\n",
       "      <td>144.00</td>\n",
       "      <td>0.003906</td>\n",
       "      <td>4.0</td>\n",
       "      <td>2052</td>\n",
       "      <td>85.396488</td>\n",
       "      <td>87446.003906</td>\n",
       "    </tr>\n",
       "    <tr>\n",
       "      <th>74</th>\n",
       "      <td>100</td>\n",
       "      <td>True</td>\n",
       "      <td>512</td>\n",
       "      <td>0.015625</td>\n",
       "      <td>16.0</td>\n",
       "      <td>15.5</td>\n",
       "      <td>0.596046</td>\n",
       "      <td>610.351562</td>\n",
       "      <td>33.0</td>\n",
       "      <td>0.119209</td>\n",
       "      <td>122.070312</td>\n",
       "      <td>33.75</td>\n",
       "      <td>0.000000</td>\n",
       "      <td>0.0</td>\n",
       "      <td>2052</td>\n",
       "      <td>0.813160</td>\n",
       "      <td>832.675781</td>\n",
       "    </tr>\n",
       "  </tbody>\n",
       "</table>\n",
       "</div>"
      ],
      "text/plain": [
       "    linerate_gbps    fld  num_tx_queues  txq_wq_mib  txq_wq_kib  \\\n",
       "22            100  False            512   64.000000     65536.0   \n",
       "74            100   True            512    0.015625        16.0   \n",
       "\n",
       "    txq_wq_translation_table_kib  tx_outstanding_mib  tx_outstanding_kib  \\\n",
       "22                           0.0           17.703125        18128.000000   \n",
       "74                          15.5            0.596046          610.351562   \n",
       "\n",
       "    txq_data_translation_table_kib  rx_outstanding_mib  rx_outstanding_kib  \\\n",
       "22                             0.0            3.546875         3632.000000   \n",
       "74                            33.0            0.119209          122.070312   \n",
       "\n",
       "    total_cq_kib  srq_wq_mib  srq_wq_kib  total_pi_bytes  total_mib  \\\n",
       "22        144.00    0.003906         4.0            2052  85.396488   \n",
       "74         33.75    0.000000         0.0            2052   0.813160   \n",
       "\n",
       "       total_kib  \n",
       "22  87446.003906  \n",
       "74    832.675781  "
      ]
     },
     "execution_count": 12,
     "metadata": {},
     "output_type": "execute_result"
    }
   ],
   "source": [
    "table_3_cols = [\n",
    "    'txq_wq_mib', 'txq_wq_kib', \n",
    "    'txq_wq_translation_table_kib', \n",
    "    'tx_outstanding_mib', 'tx_outstanding_kib', \n",
    "    'txq_data_translation_table_kib',\n",
    "    'rx_outstanding_mib', 'rx_outstanding_kib', \n",
    "    'total_cq_kib',\n",
    "    'srq_wq_mib', 'srq_wq_kib', \n",
    "    'total_pi_bytes', \n",
    "    'total_mib',\n",
    "    'total_kib']\n",
    "df[interesting_rows][keys + table_3_cols]"
   ]
  },
  {
   "cell_type": "code",
   "execution_count": 13,
   "metadata": {},
   "outputs": [],
   "source": [
    "# Color palette\n",
    "software_color, fld_color, fpga_color = pal(3) "
   ]
  },
  {
   "cell_type": "code",
   "execution_count": 14,
   "metadata": {},
   "outputs": [
    {
     "data": {
      "image/png": "[encoded data removed]",
      "text/plain": [
       "<Figure size 337.566x100 with 4 Axes>"
      ]
     },
     "metadata": {
      "image/png": {
       "height": 145,
       "width": 319
      }
     },
     "output_type": "display_data"
    },
    {
     "data": {
      "text/plain": [
       "<ggplot: (8779789271796)>"
      ]
     },
     "execution_count": 14,
     "metadata": {},
     "output_type": "execute_result"
    }
   ],
   "source": [
    "def linerate_labeller(linerate):\n",
    "    return f'{linerate} Gbps'\n",
    "\n",
    "def log2_labeller(breaks):\n",
    "    return [f'$2^{{{i}}}$' for i in np.log2(breaks).astype('int')]\n",
    "\n",
    "def minor_breaks(limits):\n",
    "    major = [10 ** i for i in range(0, 5)]\n",
    "    res = [m * 1.5 for m in major\n",
    "           if m * 1.5 < limits[1]]\n",
    "    return res\n",
    "\n",
    "limit_xcku15p_df = pd.DataFrame({'type': ['BRAM', 'URAM', 'LUTRAM'],\n",
    "  'Mibit': [34.6, 36, 9.8]})\n",
    "limit_xcku15p_mib = limit_xcku15p_df['Mibit'].sum() / 8\n",
    "\n",
    "grid_color = p9.options.current_theme.themeables['panel_grid_major'].theme_element.properties['color']\n",
    "ticks_color = \"#000000\"\n",
    "\n",
    "df['total_mib'] = df['total_bytes'] / (2 ** 20)\n",
    "df['fld_name'] = np.where(df['fld'], 'FLD', 'software')\n",
    "plt = (p9.ggplot(df, p9.aes(x='num_tx_queues', y='total_mib', linetype='fld_name', color='fld_name')) +\n",
    "  p9.geom_line() +\n",
    "  p9.geom_hline(mapping=p9.aes(linetype=['XCKU15P limit'], color=['XCKU15P limit'], yintercept=limit_xcku15p_mib)) + \n",
    "  p9.scale_x_continuous(trans='log2', name='# transmit queues', labels=log2_labeller) +\n",
    "  p9.scale_y_continuous(trans='log10', name='shared memory [MiB]',\n",
    "      minor_breaks=minor_breaks) +\n",
    "  p9.facet_grid('~ linerate_gbps', labeller=linerate_labeller) + \n",
    "  p9.theme(\n",
    "    figure_size=(fig_width, 1),\n",
    "    subplots_adjust={'top': 0.77},\n",
    "    axis_ticks_minor_y=p9.element_line(ticks_color),\n",
    "    panel_grid_minor_y=p9.element_line(color=grid_color, size=0.5),\n",
    "  ) +\n",
    "  top_legend + \\\n",
    "  p9.scale_color_manual(values=[fld_color, software_color, fpga_color])\n",
    ")\n",
    "plt"
   ]
  },
  {
   "cell_type": "code",
   "execution_count": 15,
   "metadata": {},
   "outputs": [
    {
     "name": "stderr",
     "output_type": "stream",
     "text": [
      "/home/haggai/miniconda3/envs/flc-model/lib/python3.9/site-packages/plotnine/ggplot.py:719: PlotnineWarning: Saving 3.37566 x 1 in image.\n",
      "/home/haggai/miniconda3/envs/flc-model/lib/python3.9/site-packages/plotnine/ggplot.py:722: PlotnineWarning: Filename: mem_usage.pdf\n"
     ]
    }
   ],
   "source": [
    "plt.save('mem_usage.pdf')"
   ]
  },
  {
   "cell_type": "code",
   "execution_count": 16,
   "metadata": {},
   "outputs": [
    {
     "data": {
      "text/plain": [
       "type                  col  \n",
       "tx_meta_total_bytes   ratio    2080.507937\n",
       "tx_data_total_bytes   ratio      28.177440\n",
       "total_cq_bytes        ratio       4.266667\n",
       "srq_wq_bytes          ratio            inf\n",
       "rx_outstanding_bytes  ratio      29.753344\n",
       "total_bytes           ratio     105.018071\n",
       "Name: (100, 512), dtype: float64"
      ]
     },
     "execution_count": 16,
     "metadata": {},
     "output_type": "execute_result"
    }
   ],
   "source": [
    "reduction = copy(df)\n",
    "reduction['tx_meta_total_bytes'] = reduction['txq_wq_bytes'] + reduction['txq_wq_translation_table_bytes']\n",
    "reduction['tx_data_total_bytes'] = reduction['tx_outstanding_bytes'] + reduction['txq_data_translation_table_bytes']\n",
    "reduction_cols = ['tx_meta_total_bytes', 'tx_data_total_bytes', 'total_cq_bytes', 'srq_wq_bytes', 'rx_outstanding_bytes', 'total_bytes']\n",
    "reduction = reduction.pivot_table(values=reduction_cols, columns=['fld'], index=['linerate_gbps', 'num_tx_queues'])\n",
    "\n",
    "def slice_fld(df, fld):\n",
    "    new_df = df.loc[:, [(col, fld) for col in reduction_cols]]\n",
    "    new_df.columns = new_df.columns.droplevel(1)\n",
    "    return new_df\n",
    "\n",
    "no_fld = slice_fld(reduction, False)\n",
    "fld = slice_fld(reduction, True)\n",
    "ratio = no_fld / fld\n",
    "ratio.columns = pd.MultiIndex.from_tuples((c, 'ratio') for c in ratio.columns)\n",
    "reduction = pd.concat([reduction, ratio], axis=1)#.sort_values(by=1, axis=1)\n",
    "reduction.columns.names = ['type', 'col']\n",
    "reduction = reduction.sort_values(by=['type', 'col'], axis=1)\n",
    "reduction[[(col, 'ratio') for col in reduction_cols]].loc[(100, 512)]"
   ]
  }
 ],
 "metadata": {
  "interpreter": {
   "hash": "c6e5e40b5d548b459b1e0d7764dd601243dd92169d54f8c16faf73bff9192545"
  },
  "kernelspec": {
   "display_name": "Python 3.8.8 64-bit ('base': conda)",
   "name": "python3"
  },
  "language_info": {
   "codemirror_mode": {
    "name": "ipython",
    "version": 3
   },
   "file_extension": ".py",
   "mimetype": "text/x-python",
   "name": "python",
   "nbconvert_exporter": "python",
   "pygments_lexer": "ipython3",
   "version": "3.9.7"
  }
 },
 "nbformat": 4,
 "nbformat_minor": 4
}
